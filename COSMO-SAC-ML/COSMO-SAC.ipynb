{
 "cells": [
  {
   "cell_type": "code",
   "execution_count": 152,
   "metadata": {},
   "outputs": [],
   "source": [
    "import pandas as pd\n",
    "import numpy as np\n",
    "import matplotlib.pyplot as plt\n",
    "from collections import namedtuple\n",
    "import json\n",
    "import scipy.optimize\n",
    "from predict import predict_sigma_vcosmo"
   ]
  },
  {
   "cell_type": "code",
   "execution_count": 153,
   "metadata": {},
   "outputs": [
    {
     "name": "stdout",
     "output_type": "stream",
     "text": [
      "8919.865214682537 0.001987203585086042\n"
     ]
    }
   ],
   "source": [
    "# optimized parameters\n",
    "q0 = 79.53 # [A^2]\n",
    "r0 = 66.69 # [A^3]\n",
    "z_coordination = 10\n",
    "c_hb = 14873.69 # kcal A^4 / mol/e^2\n",
    "R = 8.3144598/4184 # 0.001987 # but really: 8.3144598/4184\n",
    "sigma_hb = 0.0104\n",
    "EPS = 96.55 # (LIN AND SANDLER USE A CONSTANT FPOL WHICH YIELDS EPS=3.68)3.667\n",
    "AEFFPRIME = 3.74\n",
    "EO = 2.395e-4\n",
    "FPOL = (EPS-1.0)/(EPS+0.5)\n",
    "ALPHA = (0.3*AEFFPRIME**(1.5))/(EO)\n",
    "alpha_prime = FPOL*ALPHA\n",
    "print(alpha_prime, R)\n",
    "\n",
    "\n",
    "\n",
    "# original parameters\n",
    "# q0 = 79.53 # [A^2]\n",
    "# r0 = 66.69 # [A^3]\n",
    "# z_coordination = 10\n",
    "# c_hb = 58250.49 # kcal A^4 / mol/e^2\n",
    "# R = 8.3144598/4184 # 0.001987 # but really: 8.3144598/4184\n",
    "# sigma_hb = 0.01008\n",
    "# EPS = 3.667 # (LIN AND SANDLER USE A CONSTANT FPOL WHICH YIELDS EPS=3.68)3.667\n",
    "# AEFFPRIME = 7.5\n",
    "# EO = 2.395e-4\n",
    "# FPOL = (EPS-1.0)/(EPS+0.5)\n",
    "# ALPHA = (0.3*AEFFPRIME**(1.5))/(EO)\n",
    "# alpha_prime = FPOL*ALPHA\n",
    "# print(alpha_prime, R)"
   ]
  },
  {
   "cell_type": "code",
   "execution_count": 154,
   "metadata": {},
   "outputs": [],
   "source": [
    "sigma_tabulated = np.linspace(-0.025, 0.025, 51)\n",
    "sigma_m = np.tile(sigma_tabulated,(len(sigma_tabulated),1))\n",
    "sigma_n = np.tile(np.array(sigma_tabulated,ndmin=2).T,(1,len(sigma_tabulated)))\n",
    "sigma_acc = np.tril(sigma_n) + np.triu(sigma_m,1)\n",
    "sigma_don = np.tril(sigma_m) + np.triu(sigma_n,1)\n",
    "DELTAW = (alpha_prime/2)*(sigma_m + sigma_n)**2+ c_hb*np.maximum(0, sigma_acc - sigma_hb)*np.minimum(0, sigma_don+sigma_hb)"
   ]
  },
  {
   "cell_type": "code",
   "execution_count": null,
   "metadata": {},
   "outputs": [],
   "source": [
    "\n",
    "def get_sigma_profile(smiles):\n",
    "\n",
    "    pred_sigma_df, pred_vcosmo = predict_sigma_vcosmo(smiles,draw=False)  \n",
    "    V_COSMO = float(pred_vcosmo)\n",
    "\n",
    "    # 获取sigma_1到sigma_51的列数据\n",
    "    sigma_columns = [f'sigma_{i}' for i in range(1, 52)]  # sigma_1 到 sigma_51\n",
    "    sigma_values = pred_sigma_df[sigma_columns].values.flatten()\n",
    "    \n",
    "    # 将p(sigma)*A [A^2]数据转为DataFrame格式\n",
    "    dd = pd.DataFrame(sigma_values, columns=['p(sigma)*A [A^2]'])\n",
    "\n",
    "    # 计算A（p(sigma)*A [A^2]的总和）\n",
    "    dd['A'] = dd['p(sigma)*A [A^2]'].sum()\n",
    "\n",
    "    # 计算p(sigma)\n",
    "    dd['p(sigma)'] = dd['p(sigma)*A [A^2]'] / dd['A']\n",
    "\n",
    "    # 生成sigma [e/A^2]列，从-0.025到0.025，间隔为0.001\n",
    "    sigma_range = np.arange(-0.025, 0.026, 0.001)  # 生成从-0.025到0.025的数组，包含0.025\n",
    "    dd['sigma [e/A^2]'] = sigma_range\n",
    "\n",
    "    return dd, V_COSMO\n"
   ]
  },
  {
   "cell_type": "code",
   "execution_count": 156,
   "metadata": {},
   "outputs": [],
   "source": [
    "\n",
    "def get_Gamma(T, psigma):\n",
    "    \"\"\"计算 Gamma（表面活性系数）\"\"\"\n",
    "    Gamma = np.ones_like(psigma)\n",
    "    AA = np.exp(-DELTAW / (R * T)) * psigma\n",
    "    for _ in range(50):\n",
    "        Gammanew = 1 / np.sum(AA * Gamma, axis=1)\n",
    "        difference = np.abs((Gamma - Gammanew) / (Gamma + 1e-10))\n",
    "        Gamma = (Gammanew + Gamma) / 2\n",
    "        if np.max(difference) < 1e-8:\n",
    "            break\n",
    "    return Gamma\n",
    "\n",
    "def get_lngamma_resid(T, i, psigma_mix, prof, lnGamma_mix=None):\n",
    "    \"\"\"计算残余部分的 ln(γ_i)\"\"\"\n",
    "    if lnGamma_mix is None:\n",
    "        lnGamma_mix = np.log(get_Gamma(T, psigma_mix))\n",
    "\n",
    "    psigma = prof['p(sigma)'].values\n",
    "    A_i = prof['A'].iloc[0]\n",
    "    lnGammai = np.log(get_Gamma(T, psigma))\n",
    "    lngammai = A_i / AEFFPRIME * np.sum(psigma * (lnGamma_mix - lnGammai))\n",
    "    return lngammai\n",
    "\n",
    "def get_lngamma_comb(T, x, i, profs, V_COSMO_A3):\n",
    "    \"\"\"计算组合部分的 ln(γ_i)\"\"\"\n",
    "    A = np.array([prof['p(sigma)*A [A^2]'].sum() for prof in profs])\n",
    "    q = A / q0\n",
    "    r = V_COSMO_A3 / r0\n",
    "    theta_i = x[i] * q[i] / np.dot(x, q)\n",
    "    phi_i = x[i] * r[i] / np.dot(x, r)\n",
    "    l = z_coordination / 2 * (r - q) - (r - 1)\n",
    "    return (np.log(phi_i / x[i]) + z_coordination / 2 * q[i] * np.log(theta_i / phi_i)\n",
    "            + l[i] - phi_i / x[i] * np.dot(x, l))\n",
    "\n",
    "def get_lngamma(T, x, i, psigma_mix, profs, V_COSMO_A3, lnGamma_mix=None):\n",
    "    \"\"\"计算总的 ln(γ_i)\"\"\"\n",
    "    return (get_lngamma_resid(T, i, psigma_mix, profs[i], lnGamma_mix)\n",
    "            + get_lngamma_comb(T, x, i, profs, V_COSMO_A3))"
   ]
  },
  {
   "cell_type": "code",
   "execution_count": 157,
   "metadata": {},
   "outputs": [],
   "source": [
    "def predict_AC(solute_smiles, solvent_smiles, T, x_solute=1e-8):\n",
    "    \"\"\"预测无限稀释活度系数 (IDAC)\"\"\"\n",
    "    smiles_list = [solute_smiles, solvent_smiles]\n",
    "    x = np.array([x_solute, 1 - x_solute])\n",
    "\n",
    "    # 获取 sigma 分布和 Vcosmo\n",
    "    profs, V_COSMO_A3 = zip(*[get_sigma_profile(smiles) for smiles in smiles_list])\n",
    "    profs = list(profs)\n",
    "    V_COSMO_A3 = np.array(V_COSMO_A3)\n",
    "\n",
    "    # 计算混合物的 psigma_mix\n",
    "    As = [prof['p(sigma)*A [A^2]'].sum() for prof in profs]\n",
    "    psigma_mix = sum(x[i] * profs[i]['p(sigma)*A [A^2]'] for i in range(2))\n",
    "    psigma_mix /= sum(x[i] * As[i] for i in range(2))\n",
    "\n",
    "    # 计算 lnGamma_mix（只计算一次）\n",
    "    lnGamma_mix = np.log(get_Gamma(T, psigma_mix.values))\n",
    "\n",
    "    # 计算溶质的 ln(γ)\n",
    "    lngamma1 = get_lngamma(T, x, 0, psigma_mix, profs, V_COSMO_A3, lnGamma_mix)\n",
    "    lngamma2 = get_lngamma(T, x, 1, psigma_mix, profs, V_COSMO_A3, lnGamma_mix)\n",
    "    return lngamma1,lngamma2\n"
   ]
  },
  {
   "cell_type": "code",
   "execution_count": 158,
   "metadata": {},
   "outputs": [],
   "source": [
    "predict_IDAC = predict_AC(solute_smiles='CC(Cl)Cl', solvent_smiles='CCCCCCCCCCCCCC(=O)N(C)C', T = 326.35)"
   ]
  },
  {
   "cell_type": "code",
   "execution_count": 159,
   "metadata": {},
   "outputs": [
    {
     "data": {
      "text/plain": [
       "(-0.7191742505596098, -3.889348638674007e-08)"
      ]
     },
     "execution_count": 159,
     "metadata": {},
     "output_type": "execute_result"
    }
   ],
   "source": [
    "predict_IDAC"
   ]
  }
 ],
 "metadata": {
  "kernelspec": {
   "display_name": "QYX",
   "language": "python",
   "name": "python3"
  },
  "language_info": {
   "codemirror_mode": {
    "name": "ipython",
    "version": 3
   },
   "file_extension": ".py",
   "mimetype": "text/x-python",
   "name": "python",
   "nbconvert_exporter": "python",
   "pygments_lexer": "ipython3",
   "version": "3.12.2"
  }
 },
 "nbformat": 4,
 "nbformat_minor": 2
}
